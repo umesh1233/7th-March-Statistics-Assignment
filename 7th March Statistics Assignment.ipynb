{
 "cells": [
  {
   "cell_type": "code",
   "execution_count": null,
   "id": "161b1756-9445-4236-bb40-7e9ecc5e221e",
   "metadata": {},
   "outputs": [],
   "source": [
    "#Q.1\n",
    "There are three main measures of central tendency:\n",
    "1.Mode.\n",
    "2.Median.\n",
    "3.Mean."
   ]
  },
  {
   "cell_type": "code",
   "execution_count": null,
   "id": "b4b29142-bd3b-488f-9789-6dff7996f4c1",
   "metadata": {},
   "outputs": [],
   "source": [
    "#Q.2\n",
    "The 3 most common measures of central tendency are the mean, median and mode. The mode is the most frequent value.\n",
    "The median is the middle number in an ordered data set. The mean is the sum of all values divided by the total number of values."
   ]
  },
  {
   "cell_type": "code",
   "execution_count": 1,
   "id": "b9b43fcc-8fa9-4e6c-bb74-108faff0e059",
   "metadata": {},
   "outputs": [],
   "source": [
    "#Q.3\n",
    "import pandas as pd"
   ]
  },
  {
   "cell_type": "code",
   "execution_count": 2,
   "id": "a10a74e4-6ee5-4d87-9235-aaac8e7fa6c7",
   "metadata": {},
   "outputs": [],
   "source": [
    "data = [178,177,176,177,178.2,178,175,179,180,175,178.9,176.2,177,172.5,178,176.5]"
   ]
  },
  {
   "cell_type": "code",
   "execution_count": 3,
   "id": "a99eda0b-9b56-454c-99d1-2e86e8712515",
   "metadata": {},
   "outputs": [],
   "source": [
    "df = pd.DataFrame(data)"
   ]
  },
  {
   "cell_type": "code",
   "execution_count": 4,
   "id": "5a4d7f64-ba39-4269-80d8-c61191bb28eb",
   "metadata": {},
   "outputs": [
    {
     "data": {
      "text/plain": [
       "0    177.01875\n",
       "dtype: float64"
      ]
     },
     "execution_count": 4,
     "metadata": {},
     "output_type": "execute_result"
    }
   ],
   "source": [
    "df.mean()"
   ]
  },
  {
   "cell_type": "code",
   "execution_count": 5,
   "id": "2bfcca27-d557-4803-a001-7614f7c68167",
   "metadata": {},
   "outputs": [
    {
     "data": {
      "text/plain": [
       "0    177.0\n",
       "dtype: float64"
      ]
     },
     "execution_count": 5,
     "metadata": {},
     "output_type": "execute_result"
    }
   ],
   "source": [
    "df.median()"
   ]
  },
  {
   "cell_type": "code",
   "execution_count": 6,
   "id": "e5cac99d-b0ab-4680-9118-597a7d2732f7",
   "metadata": {},
   "outputs": [
    {
     "data": {
      "text/html": [
       "<div>\n",
       "<style scoped>\n",
       "    .dataframe tbody tr th:only-of-type {\n",
       "        vertical-align: middle;\n",
       "    }\n",
       "\n",
       "    .dataframe tbody tr th {\n",
       "        vertical-align: top;\n",
       "    }\n",
       "\n",
       "    .dataframe thead th {\n",
       "        text-align: right;\n",
       "    }\n",
       "</style>\n",
       "<table border=\"1\" class=\"dataframe\">\n",
       "  <thead>\n",
       "    <tr style=\"text-align: right;\">\n",
       "      <th></th>\n",
       "      <th>0</th>\n",
       "    </tr>\n",
       "  </thead>\n",
       "  <tbody>\n",
       "    <tr>\n",
       "      <th>0</th>\n",
       "      <td>177.0</td>\n",
       "    </tr>\n",
       "    <tr>\n",
       "      <th>1</th>\n",
       "      <td>178.0</td>\n",
       "    </tr>\n",
       "  </tbody>\n",
       "</table>\n",
       "</div>"
      ],
      "text/plain": [
       "       0\n",
       "0  177.0\n",
       "1  178.0"
      ]
     },
     "execution_count": 6,
     "metadata": {},
     "output_type": "execute_result"
    }
   ],
   "source": [
    "df.mode()"
   ]
  },
  {
   "cell_type": "code",
   "execution_count": 7,
   "id": "89e3bb63-1d08-4deb-b308-5b041cbb7351",
   "metadata": {},
   "outputs": [],
   "source": [
    "#Q.4\n",
    "l = [178,177,176,177,178.2,178,175,179,180,175,178.9,176.2,177,172.5,178,176.5]"
   ]
  },
  {
   "cell_type": "code",
   "execution_count": 8,
   "id": "cf24de7e-4894-4595-9c3e-fa02518bb3d5",
   "metadata": {},
   "outputs": [],
   "source": [
    "df = pd.DataFrame(l)"
   ]
  },
  {
   "cell_type": "code",
   "execution_count": 9,
   "id": "df48c01f-77c2-4b1b-9072-cfa6c5624d7a",
   "metadata": {},
   "outputs": [
    {
     "data": {
      "text/plain": [
       "0    1.847239\n",
       "dtype: float64"
      ]
     },
     "execution_count": 9,
     "metadata": {},
     "output_type": "execute_result"
    }
   ],
   "source": [
    "df.std()"
   ]
  },
  {
   "cell_type": "code",
   "execution_count": null,
   "id": "78230bb1-07cb-4b45-b930-1a02b0a2626d",
   "metadata": {},
   "outputs": [],
   "source": [
    "#Q.5\n",
    "Variance is a simple measure of dispersion. Variance measures how far each number in the dataset from the mean. \n",
    "To compute variance first, calculate the mean and squared deviations from a mean.\n",
    "Observation near to mean value gets the lower result and far from means gets higher value."
   ]
  },
  {
   "cell_type": "code",
   "execution_count": null,
   "id": "730f6a41-cb65-43ea-bef6-1d6362539999",
   "metadata": {},
   "outputs": [],
   "source": [
    "#Q.6\n",
    "A Venn diagram illustrates the relationships between two or more data sets. Venn diagrams are especially useful for highlighting similarities and differences and are\n",
    "commonly used to compare and contrast the characteristics of different data sets. In a Venn diagram, circles are used\n",
    "to represent each data set."
   ]
  },
  {
   "cell_type": "code",
   "execution_count": null,
   "id": "f1d5b3b9-6c82-4cc8-82bc-2df28f42e270",
   "metadata": {},
   "outputs": [],
   "source": [
    "#Q.7\n",
    "given sets A = (2,3,4,5,6,7) & B = (0,2,6,8,10). \n",
    "(i) A inter section B = (2,6).\n",
    "(ii) A ⋃ B = (0,2,3,4,5,6,7,8,10)."
   ]
  },
  {
   "cell_type": "code",
   "execution_count": null,
   "id": "56530632-97fc-4c75-b6a8-e53ff3106421",
   "metadata": {},
   "outputs": [],
   "source": [
    "#Q.8\n",
    "Skewness is a measurement of the distortion of symmetrical distribution or asymmetry in a data set. Skewness is demonstrated on a bell curve\n",
    "when data points are not distributed symmetrically to the left and right sides of the median on a bell curve."
   ]
  },
  {
   "cell_type": "code",
   "execution_count": null,
   "id": "eacb877e-bb12-4c2e-8168-05c1e3547493",
   "metadata": {},
   "outputs": [],
   "source": [
    "#Q.9\n",
    "If the distribution of data is skewed to the right, the mode is often less than the median, which is less than the mean."
   ]
  },
  {
   "cell_type": "code",
   "execution_count": null,
   "id": "51f3e0eb-14d4-4836-ad9a-50e4ab6adb7b",
   "metadata": {},
   "outputs": [],
   "source": [
    "#Q.10\n",
    "Covariance is an indicator of the extent to which 2 random variables are dependent on each other. A higher number denotes higher dependency.\n",
    "Correlation is a statistical measure that indicates how strongly two variables are related. The value of covariance lies in the range of -∞ and +∞."
   ]
  },
  {
   "cell_type": "code",
   "execution_count": null,
   "id": "339cc34c-c54b-498d-b288-b18d5098826c",
   "metadata": {},
   "outputs": [],
   "source": [
    "#Q.11\n",
    "The general formula for calculating the sample mean is given by x̄ = ( Σ xi ) / n. Here, x̄ represents the sample mean, xi refers all X sample values and n stands for the number of sample terms in the data set."
   ]
  },
  {
   "cell_type": "code",
   "execution_count": null,
   "id": "38f86f98-ce54-407e-948b-8522bd11a2e1",
   "metadata": {},
   "outputs": [],
   "source": [
    "#Q.12\n",
    "For normally distributed data, all three measures of central tendency will give you the same answer so they can all be used. In skewed distributions, the median is the best measure\n",
    "because it is unaffected by extreme outliers or non-symmetric distributions of scores. The mean and mode can vary in skewed distributions."
   ]
  },
  {
   "cell_type": "code",
   "execution_count": null,
   "id": "8d1b2716-7d07-41c3-b221-fa2da87a9633",
   "metadata": {},
   "outputs": [],
   "source": [
    "#Q.13\n",
    "Covariance and correlation are two terms that are opposed and are both used in statistics and regression analysis.\n",
    "Covariance shows you how the two variables differ, whereas correlation shows you how the two variables are related."
   ]
  },
  {
   "cell_type": "code",
   "execution_count": null,
   "id": "225ebdc5-0481-45ea-b340-d61d3aab694f",
   "metadata": {},
   "outputs": [],
   "source": [
    "#Q.14\n",
    "Outliers are numbers in a data set that are vastly larger or smaller than the other values in the set.\n",
    "Mean, median and mode are measures of central tendency. Mean is the only measure of central tendency that is always affected by an outlier."
   ]
  }
 ],
 "metadata": {
  "kernelspec": {
   "display_name": "Python 3 (ipykernel)",
   "language": "python",
   "name": "python3"
  },
  "language_info": {
   "codemirror_mode": {
    "name": "ipython",
    "version": 3
   },
   "file_extension": ".py",
   "mimetype": "text/x-python",
   "name": "python",
   "nbconvert_exporter": "python",
   "pygments_lexer": "ipython3",
   "version": "3.10.8"
  }
 },
 "nbformat": 4,
 "nbformat_minor": 5
}
